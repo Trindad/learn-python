{
 "cells": [
  {
   "cell_type": "markdown",
   "metadata": {},
   "source": [
    "# SQLite databases with python"
   ]
  },
  {
   "cell_type": "code",
   "execution_count": 1,
   "metadata": {},
   "outputs": [],
   "source": [
    "import sqlite3"
   ]
  },
  {
   "cell_type": "markdown",
   "metadata": {},
   "source": [
    "### Connect to database"
   ]
  },
  {
   "cell_type": "code",
   "execution_count": 2,
   "metadata": {},
   "outputs": [],
   "source": [
    "# conn = sqlite3.connect(':memory') #cria database na memória\n",
    "\n",
    "conn = sqlite3.connect('customer.db')"
   ]
  },
  {
   "cell_type": "markdown",
   "metadata": {},
   "source": [
    "### Create tables"
   ]
  },
  {
   "cell_type": "code",
   "execution_count": 3,
   "metadata": {},
   "outputs": [],
   "source": [
    "#create a cursor\n",
    "c = conn.cursor()\n",
    "\n",
    "#create a table\n",
    "c.execute(\"\"\"CREATE TABLE customers (\n",
    "    first_name text,\n",
    "    last_name text,\n",
    "    email text)\"\"\")\n",
    "# TYPES:\n",
    "# NULL\n",
    "# INTEGER\n",
    "# REAL\n",
    "# TEXT\n",
    "# BLOB (E.G. IMAGE)\n",
    "\n",
    "#commit our connection\n",
    "conn.commit()"
   ]
  },
  {
   "cell_type": "code",
   "execution_count": 4,
   "metadata": {},
   "outputs": [
    {
     "name": "stdout",
     "output_type": "stream",
     "text": [
      "Command executed succesfully\n"
     ]
    }
   ],
   "source": [
    "c.execute(\"INSERT INTO customers VALUES ('John', 'Elder', 'john@codemy.com')\")\n",
    "c.execute(\"INSERT INTO customers VALUES ('Mary', 'Brown', 'mary@codemy.com')\")\n",
    "c.execute(\"INSERT INTO customers VALUES ('Ann', 'Gates', 'john@codemy.com')\")\n",
    "c.execute(\"INSERT INTO customers VALUES ('Rita', 'Santos', 'john@codemy.com')\")\n",
    "\n",
    "print(\"Command executed succesfully\")\n",
    "\n",
    "#commit our connection\n",
    "conn.commit()"
   ]
  },
  {
   "cell_type": "code",
   "execution_count": 5,
   "metadata": {},
   "outputs": [
    {
     "name": "stdout",
     "output_type": "stream",
     "text": [
      "Command executed succesfully\n"
     ]
    }
   ],
   "source": [
    "many_customers = [\n",
    "    ('Wes', 'Brown', 'wes@brown.com'),\n",
    "    ('Steph', 'Kuewa', 'steph@kuewa.com'),\n",
    "    ('Dan', 'Pas', 'dan@pas.com')\n",
    "]\n",
    "\n",
    "c.executemany(\"INSERT INTO customers VALUES (?, ?, ?)\", many_customers)\n",
    "\n",
    "print(\"Command executed succesfully\")"
   ]
  },
  {
   "cell_type": "markdown",
   "metadata": {},
   "source": [
    "### Query"
   ]
  },
  {
   "cell_type": "code",
   "execution_count": 6,
   "metadata": {},
   "outputs": [
    {
     "data": {
      "text/plain": [
       "('John', 'Elder', 'john@codemy.com')"
      ]
     },
     "execution_count": 6,
     "metadata": {},
     "output_type": "execute_result"
    }
   ],
   "source": [
    "c.execute(\"SELECT * FROM customers\")\n",
    "\n",
    "c.fetchone()"
   ]
  },
  {
   "cell_type": "code",
   "execution_count": 7,
   "metadata": {},
   "outputs": [
    {
     "name": "stdout",
     "output_type": "stream",
     "text": [
      "Mary\n",
      "Gates\n",
      "john@codemy.com\n"
     ]
    }
   ],
   "source": [
    "print(c.fetchone()[0])\n",
    "print(c.fetchone()[1])\n",
    "print(c.fetchone()[2])"
   ]
  },
  {
   "cell_type": "code",
   "execution_count": 8,
   "metadata": {},
   "outputs": [
    {
     "data": {
      "text/plain": [
       "[('Wes', 'Brown', 'wes@brown.com'),\n",
       " ('Steph', 'Kuewa', 'steph@kuewa.com'),\n",
       " ('Dan', 'Pas', 'dan@pas.com')]"
      ]
     },
     "execution_count": 8,
     "metadata": {},
     "output_type": "execute_result"
    }
   ],
   "source": [
    "c.fetchmany(3)"
   ]
  },
  {
   "cell_type": "code",
   "execution_count": 9,
   "metadata": {},
   "outputs": [
    {
     "name": "stdout",
     "output_type": "stream",
     "text": [
      "Name\t\tEmail\n"
     ]
    }
   ],
   "source": [
    "items = c.fetchall()\n",
    "\n",
    "# print(items)\n",
    "print(\"Name\"+\"\\t\\tEmail\")\n",
    "for item in items:\n",
    "#     print(item)\n",
    "    print(item[0]+\" \"+item[1]+\"\\t\"+item[2])"
   ]
  },
  {
   "cell_type": "code",
   "execution_count": 10,
   "metadata": {},
   "outputs": [
    {
     "name": "stdout",
     "output_type": "stream",
     "text": [
      "(1, 'John', 'Elder', 'john@codemy.com')\n",
      "(2, 'Mary', 'Brown', 'mary@codemy.com')\n",
      "(3, 'Ann', 'Gates', 'john@codemy.com')\n",
      "(4, 'Rita', 'Santos', 'john@codemy.com')\n",
      "(5, 'Wes', 'Brown', 'wes@brown.com')\n",
      "(6, 'Steph', 'Kuewa', 'steph@kuewa.com')\n",
      "(7, 'Dan', 'Pas', 'dan@pas.com')\n"
     ]
    }
   ],
   "source": [
    "c.execute(\"SELECT rowid, * FROM customers\")\n",
    "\n",
    "items = c.fetchall()\n",
    "\n",
    "for item in items:\n",
    "    print(item)"
   ]
  },
  {
   "cell_type": "code",
   "execution_count": 11,
   "metadata": {},
   "outputs": [
    {
     "name": "stdout",
     "output_type": "stream",
     "text": [
      "('John', 'Elder', 'john@codemy.com')\n",
      "('Mary', 'Brown', 'mary@codemy.com')\n",
      "('Ann', 'Gates', 'john@codemy.com')\n",
      "('Rita', 'Santos', 'john@codemy.com')\n"
     ]
    }
   ],
   "source": [
    "# c.execute(\"SELECT * FROM customers WHERE last_name = 'Elder'\")\n",
    "# c.execute(\"SELECT * FROM customers WHERE last_name LIKE 'Br%'\")\n",
    "c.execute(\"SELECT * FROM customers WHERE email LIKE '%codemy.com'\")\n",
    "\n",
    "items = c.fetchall()\n",
    "\n",
    "for item in items:\n",
    "    print(item)"
   ]
  },
  {
   "cell_type": "markdown",
   "metadata": {},
   "source": [
    "### Update records"
   ]
  },
  {
   "cell_type": "code",
   "execution_count": 12,
   "metadata": {},
   "outputs": [
    {
     "data": {
      "text/plain": [
       "[(1, 'Bob', 'Elder', 'john@codemy.com'),\n",
       " (2, 'Mary', 'Brown', 'mary@codemy.com'),\n",
       " (3, 'Ann', 'Gates', 'john@codemy.com'),\n",
       " (4, 'Rita', 'Santos', 'john@codemy.com'),\n",
       " (5, 'Wes', 'Brown', 'wes@brown.com'),\n",
       " (6, 'Steph', 'Kuewa', 'steph@kuewa.com'),\n",
       " (7, 'Dan', 'Pas', 'dan@pas.com')]"
      ]
     },
     "execution_count": 12,
     "metadata": {},
     "output_type": "execute_result"
    }
   ],
   "source": [
    "c.execute(\"\"\"UPDATE customers SET first_name = \"Bob\"\n",
    "        WHERE last_name = 'Elder'\n",
    "    \"\"\")\n",
    "conn.commit()\n",
    "\n",
    "c.execute(\"SELECT rowid, * FROM customers\")\n",
    "\n",
    "c.fetchall()"
   ]
  },
  {
   "cell_type": "code",
   "execution_count": 13,
   "metadata": {},
   "outputs": [
    {
     "data": {
      "text/plain": [
       "[(1, 'John', 'Elder', 'john@codemy.com'),\n",
       " (2, 'Mary', 'Brown', 'mary@codemy.com'),\n",
       " (3, 'Ann', 'Gates', 'john@codemy.com'),\n",
       " (4, 'Rita', 'Santos', 'john@codemy.com'),\n",
       " (5, 'Wes', 'Brown', 'wes@brown.com'),\n",
       " (6, 'Steph', 'Kuewa', 'steph@kuewa.com'),\n",
       " (7, 'Dan', 'Pas', 'dan@pas.com')]"
      ]
     },
     "execution_count": 13,
     "metadata": {},
     "output_type": "execute_result"
    }
   ],
   "source": [
    "c.execute(\"\"\"UPDATE customers SET first_name = \"John\"\n",
    "        WHERE rowid = 1\n",
    "    \"\"\")\n",
    "conn.commit()\n",
    "\n",
    "c.execute(\"SELECT rowid, * FROM customers\")\n",
    "\n",
    "c.fetchall()"
   ]
  },
  {
   "cell_type": "markdown",
   "metadata": {},
   "source": [
    "### Delete"
   ]
  },
  {
   "cell_type": "code",
   "execution_count": 14,
   "metadata": {},
   "outputs": [
    {
     "data": {
      "text/plain": [
       "[(1, 'John', 'Elder', 'john@codemy.com'),\n",
       " (2, 'Mary', 'Brown', 'mary@codemy.com'),\n",
       " (3, 'Ann', 'Gates', 'john@codemy.com'),\n",
       " (4, 'Rita', 'Santos', 'john@codemy.com'),\n",
       " (5, 'Wes', 'Brown', 'wes@brown.com'),\n",
       " (7, 'Dan', 'Pas', 'dan@pas.com')]"
      ]
     },
     "execution_count": 14,
     "metadata": {},
     "output_type": "execute_result"
    }
   ],
   "source": [
    "c.execute(\"DELETE FROM customers WHERE rowid = 6\")\n",
    "conn.commit()\n",
    "\n",
    "c.execute(\"SELECT rowid, * FROM customers\")\n",
    "\n",
    "c.fetchall()"
   ]
  },
  {
   "cell_type": "markdown",
   "metadata": {},
   "source": [
    "### Ordering"
   ]
  },
  {
   "cell_type": "code",
   "execution_count": 15,
   "metadata": {},
   "outputs": [
    {
     "name": "stdout",
     "output_type": "stream",
     "text": [
      "(7, 'Dan', 'Pas', 'dan@pas.com')\n",
      "(5, 'Wes', 'Brown', 'wes@brown.com')\n",
      "(4, 'Rita', 'Santos', 'john@codemy.com')\n",
      "(3, 'Ann', 'Gates', 'john@codemy.com')\n",
      "(2, 'Mary', 'Brown', 'mary@codemy.com')\n",
      "(1, 'John', 'Elder', 'john@codemy.com')\n"
     ]
    }
   ],
   "source": [
    "# c.execute(\"SELECT rowid, * FROM customers ORDER BY rowid\")\n",
    "c.execute(\"SELECT rowid, * FROM customers ORDER BY rowid DESC\")\n",
    "\n",
    "items = c.fetchall()\n",
    "\n",
    "for item in items:\n",
    "    print(item)"
   ]
  },
  {
   "cell_type": "code",
   "execution_count": 16,
   "metadata": {},
   "outputs": [
    {
     "name": "stdout",
     "output_type": "stream",
     "text": [
      "(1, 'John', 'Elder', 'john@codemy.com')\n",
      "(2, 'Mary', 'Brown', 'mary@codemy.com')\n",
      "(3, 'Ann', 'Gates', 'john@codemy.com')\n",
      "(4, 'Rita', 'Santos', 'john@codemy.com')\n",
      "(5, 'Wes', 'Brown', 'wes@brown.com')\n",
      "(7, 'Dan', 'Pas', 'dan@pas.com')\n"
     ]
    }
   ],
   "source": [
    "c.execute(\"SELECT rowid, * FROM customers ORDER BY rowid ASC\")\n",
    "\n",
    "items = c.fetchall()\n",
    "\n",
    "for item in items:\n",
    "    print(item)"
   ]
  },
  {
   "cell_type": "code",
   "execution_count": 17,
   "metadata": {},
   "outputs": [
    {
     "name": "stdout",
     "output_type": "stream",
     "text": [
      "(3, 'Ann', 'Gates', 'john@codemy.com')\n",
      "(7, 'Dan', 'Pas', 'dan@pas.com')\n",
      "(1, 'John', 'Elder', 'john@codemy.com')\n",
      "(2, 'Mary', 'Brown', 'mary@codemy.com')\n",
      "(4, 'Rita', 'Santos', 'john@codemy.com')\n",
      "(5, 'Wes', 'Brown', 'wes@brown.com')\n"
     ]
    }
   ],
   "source": [
    "c.execute(\"SELECT rowid, * FROM customers ORDER BY first_name ASC\")\n",
    "# c.execute(\"SELECT rowid, * FROM customers ORDER BY first_name DESC\")\n",
    "\n",
    "items = c.fetchall()\n",
    "\n",
    "for item in items:\n",
    "    print(item)"
   ]
  },
  {
   "cell_type": "markdown",
   "metadata": {},
   "source": [
    "### And/Or"
   ]
  },
  {
   "cell_type": "code",
   "execution_count": 18,
   "metadata": {},
   "outputs": [],
   "source": [
    "c.execute(\"SELECT rowid, * FROM customers WHERE last_name LIKE 'Br%' AND rowid=3\")\n",
    "# c.execute(\"SELECT rowid, * FROM customers WHERE last_name LIKE 'Br%' OR rowid=3\")\n",
    "\n",
    "items = c.fetchall()\n",
    "\n",
    "for item in items:\n",
    "    print(item)"
   ]
  },
  {
   "cell_type": "markdown",
   "metadata": {},
   "source": [
    "### Limit"
   ]
  },
  {
   "cell_type": "code",
   "execution_count": 19,
   "metadata": {},
   "outputs": [
    {
     "name": "stdout",
     "output_type": "stream",
     "text": [
      "(7, 'Dan', 'Pas', 'dan@pas.com')\n",
      "(5, 'Wes', 'Brown', 'wes@brown.com')\n",
      "(4, 'Rita', 'Santos', 'john@codemy.com')\n"
     ]
    }
   ],
   "source": [
    "c.execute(\"SELECT rowid, * FROM customers ORDER BY rowid DESC LIMIT 3\")\n",
    "\n",
    "items = c.fetchall()\n",
    "\n",
    "for item in items:\n",
    "    print(item)"
   ]
  },
  {
   "cell_type": "markdown",
   "metadata": {},
   "source": [
    "### Functions"
   ]
  },
  {
   "cell_type": "code",
   "execution_count": 20,
   "metadata": {},
   "outputs": [
    {
     "name": "stdout",
     "output_type": "stream",
     "text": [
      "('John', 'Elder', 'john@codemy.com')\n",
      "('Mary', 'Brown', 'mary@codemy.com')\n",
      "('Ann', 'Gates', 'john@codemy.com')\n",
      "('Rita', 'Santos', 'john@codemy.com')\n",
      "('Wes', 'Brown', 'wes@brown.com')\n",
      "('Dan', 'Pas', 'dan@pas.com')\n"
     ]
    }
   ],
   "source": [
    "#Query the database and print all records\n",
    "def show_all():\n",
    "    conn = sqlite3.connect(\"customer.db\")\n",
    "    c = conn.cursor()\n",
    "    \n",
    "    c.execute(\"SELECT * FROM customers\")\n",
    "    items = c.fetchall()\n",
    "    for item in items:\n",
    "        print(item)\n",
    "        \n",
    "    conn.close()\n",
    "\n",
    "show_all()"
   ]
  },
  {
   "cell_type": "markdown",
   "metadata": {},
   "source": [
    "### Delete table"
   ]
  },
  {
   "cell_type": "code",
   "execution_count": 21,
   "metadata": {},
   "outputs": [],
   "source": [
    "c.execute(\"DROP TABLE customers\")\n",
    "conn.commit()"
   ]
  },
  {
   "cell_type": "code",
   "execution_count": 22,
   "metadata": {},
   "outputs": [],
   "source": [
    "#close our connection\n",
    "conn.close()"
   ]
  }
 ],
 "metadata": {
  "kernelspec": {
   "display_name": "Python 3",
   "language": "python",
   "name": "python3"
  },
  "language_info": {
   "codemirror_mode": {
    "name": "ipython",
    "version": 3
   },
   "file_extension": ".py",
   "mimetype": "text/x-python",
   "name": "python",
   "nbconvert_exporter": "python",
   "pygments_lexer": "ipython3",
   "version": "3.6.9"
  }
 },
 "nbformat": 4,
 "nbformat_minor": 2
}
